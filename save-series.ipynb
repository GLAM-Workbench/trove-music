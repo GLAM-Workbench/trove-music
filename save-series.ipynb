{
 "cells": [
  {
   "cell_type": "markdown",
   "id": "2bc2ba39-415c-483f-b88f-fe2e10f0593d",
   "metadata": {
    "editable": true,
    "slideshow": {
     "slide_type": ""
    },
    "tags": []
   },
   "source": [
    "# Save a list of oral history collections\n",
    "\n",
    "Oral histories are often grouped into collections or projects. The names of these collections can be found as  `series` in the `isPartOf` metadata field.\n",
    "\n",
    "This notebook extracts a list of series from a [pre-harvested dataset](https://github.com/GLAM-Workbench/trove-oral-histories-data/blob/main/trove-oral-histories.csv) of oral histories held by the NLA and described in Trove, and saves them to a text file. You can [download an example](https://github.com/GLAM-Workbench/trove-oral-histories-data/blob/main/trove-oral-history-series.txt) of the file created by this notebook from the [trove-oral-histories-data](https://github.com/GLAM-Workbench/trove-oral-histories-data) GitHub repository.\n",
    "\n",
    "If you're using data from the oral histories in Trove, you should read the section on [licensing of oral histories](https://tdg.glam-workbench.net/other-digitised-resources/oral-histories/overview.html#licensing-of-oral-histories) in the Trove Data Guide."
   ]
  },
  {
   "cell_type": "code",
   "execution_count": 1,
   "id": "47d30a0c-4195-44c9-9d24-7a302d6f1f31",
   "metadata": {
    "editable": true,
    "slideshow": {
     "slide_type": ""
    },
    "tags": []
   },
   "outputs": [],
   "source": [
    "from pathlib import Path\n",
    "\n",
    "import pandas as pd"
   ]
  },
  {
   "cell_type": "code",
   "execution_count": 2,
   "id": "50d7d90c-0eac-455d-a44d-3c6363d257da",
   "metadata": {
    "editable": true,
    "slideshow": {
     "slide_type": ""
    },
    "tags": []
   },
   "outputs": [],
   "source": [
    "# Load the preharvested dataset\n",
    "df = pd.read_csv(\"https://github.com/GLAM-Workbench/trove-oral-histories-data/raw/main/trove-oral-histories.csv\")\n",
    "\n",
    "# Split the is_part_of field in case there are multiple values\n",
    "collections = df[\"is_part_of\"].str.split(\" | \", regex=False).explode().dropna().reset_index()\n",
    "\n",
    "# Get a list of series values\n",
    "series = list(\n",
    "    collections.loc[collections[\"is_part_of\"].str.startswith(\"series\")][\n",
    "        \"is_part_of\"\n",
    "    ].unique()\n",
    ")\n",
    "\n",
    "# Remove duplicates and strip trailing fullstops\n",
    "series = sorted(set([s.lstrip(\"series: \").rstrip(\".\").strip() for s in series]))"
   ]
  },
  {
   "cell_type": "code",
   "execution_count": 3,
   "id": "8dee1903-0f2e-42f4-bb0e-a81847dd4d96",
   "metadata": {
    "editable": true,
    "slideshow": {
     "slide_type": ""
    },
    "tags": [
     "nbval-skip"
    ]
   },
   "outputs": [],
   "source": [
    "# Save the list of series to a file\n",
    "with Path(\"trove-oral-history-series.txt\").open(\"w\") as text_file:\n",
    "    for s in series:\n",
    "        text_file.write(s + \"\\n\")"
   ]
  },
  {
   "cell_type": "markdown",
   "id": "a598132f-5963-469e-87a3-61b791465907",
   "metadata": {
    "editable": true,
    "slideshow": {
     "slide_type": ""
    },
    "tags": []
   },
   "source": [
    "----\n",
    "\n",
    "Created by [Tim Sherratt](https://timsherratt.org) for the [GLAM Workbench](https://glam-workbench.net/)."
   ]
  }
 ],
 "metadata": {
  "kernelspec": {
   "display_name": "Python 3 (ipykernel)",
   "language": "python",
   "name": "python3"
  },
  "language_info": {
   "codemirror_mode": {
    "name": "ipython",
    "version": 3
   },
   "file_extension": ".py",
   "mimetype": "text/x-python",
   "name": "python",
   "nbconvert_exporter": "python",
   "pygments_lexer": "ipython3",
   "version": "3.10.2"
  },
  "rocrate": {
   "author": [
    {
     "name": "Sherratt, Tim",
     "orcid": "https://orcid.org/0000-0001-7956-4498"
    }
   ],
   "description": "This notebook extracts a list of series from a pre-harvested dataset of oral histories held by the NLA and described in Trove, and saves them to a text file.",
   "name": "Save a list of oral history collections",
   "object": "https://github.com/GLAM-Workbench/trove-oral-histories-data/blob/main/trove-oral-histories.csv",
   "result": "https://github.com/GLAM-Workbench/trove-oral-histories-data/blob/main/trove-oral-history-series.txt"
  }
 },
 "nbformat": 4,
 "nbformat_minor": 5
}
