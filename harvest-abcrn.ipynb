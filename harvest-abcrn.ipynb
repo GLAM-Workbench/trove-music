{
 "cells": [
  {
   "cell_type": "markdown",
   "id": "electoral-stocks",
   "metadata": {
    "editable": true,
    "slideshow": {
     "slide_type": ""
    },
    "tags": []
   },
   "source": [
    "# Harvest ABC Radio National records from Trove\n",
    "\n",
    "Trove harvests details of programs and segments broadcast on ABC Radio National. You can find them by [searching](https://trove.nla.gov.au/search/category/music?keyword=nuc%3A%22ABC%3ARN%22) for `nuc:\"ABC:RN\"` in the Music & Audio category. The records include basic metadata such as titles, dates, and contributors, but not full transcripts or audio.\n",
    "\n",
    "This notebook harvests metadata describing ABCRN programs and segments using the Trove API. Note that there don't seem to have been any additions to the data since early 2022.\n",
    "\n",
    "As of December 2023, there are **427,141** records (after removing duplicates) from about **163 programs** (the actual number of programs is less than this, as the names used for some programs varies). See [this notebook](explore-abcrn-data.ipynb) for some examples of how you can start exploring the data.\n",
    "\n",
    "The harvested data is available in this GitHub repository. You can download the full dataset as a **340mb [NDJSON file](https://github.com/GLAM-Workbench/trove-abcrn-data/blob/main/abcrn-metadata.ndjson)** (with a separate JSON object for each record, separated by line breaks) and as a **216mb [CSV file](https://github.com/GLAM-Workbench/trove-abcrn-data/blob/main/abcrn-metadata.csv)** (with lists saved as pipe-separated strings).\n",
    "\n",
    "For convenience, I've also created separate CSV files for the programs with the most records:\n",
    "\n",
    "* [RN Breakfast](https://github.com/GLAM-Workbench/trove-abcrn-data/blob/main/abcrn-breakfast-metadata.csv)\n",
    "* [RN Drive](https://github.com/GLAM-Workbench/trove-abcrn-data/blob/main/abcrn-drive-metadata.csv)\n",
    "* [AM](https://github.com/GLAM-Workbench/trove-abcrn-data/blob/main/abcrn-am-metadata.csv)\n",
    "* [PM](https://github.com/GLAM-Workbench/trove-abcrn-data/blob/main/abcrn-pm-metadata.csv)\n",
    "* [The World Today](https://github.com/GLAM-Workbench/trove-abcrn-data/blob/main/abcrn-worldtoday-metadata.csv)\n",
    "* [Late Night Live](https://github.com/GLAM-Workbench/trove-abcrn-data/blob/main/abcrn-latenight-metadata.csv)\n",
    "* [Life Matters](https://github.com/GLAM-Workbench/trove-abcrn-data/blob/main/abcrn-lifematters-metadata.csv)\n",
    "* [The Science Show](https://github.com/GLAM-Workbench/trove-abcrn-data/blob/main/abcrn-scienceshow-metadata.csv)\n",
    "\n",
    "There's also a [harvest from 2016](https://github.com/wragge/radio-national-data) available in this repository.\n",
    "\n",
    "## Data fields\n",
    "\n",
    "Any of the fields other than `work_id` and `version_id` might be empty, though in most cases there should at least be values for `title`, `date`, `creator`, `contributor` and `isPartOf`.\n",
    "\n",
    "* `work_id` – identifier for the containing work in Trove (you can use this to create a url to the item)\n",
    "* `version_id` – an identifier for the version within the work\n",
    "* `title` – title for the program or segment\n",
    "* `isPartOf` – name of the program this is a part of\n",
    "* `date` – ISO formatted date\n",
    "* `creator` – usually just the ABC\n",
    "* `contributor` – a list of names of those involved, such as the host, reporter or guest\n",
    "* `type` – list of types\n",
    "* `format` – list of formats\n",
    "* `abstract` – text providing a summary of the program or segment (may incude multiple values)\n",
    "* `fulltext_url` – link to the page on the ABC website where you can find more information\n",
    "* `thumbnail_url` – link to a related thumbnail image on the ABC website\n",
    "* `notonline_url` – not sure..."
   ]
  },
  {
   "cell_type": "markdown",
   "id": "simplified-brighton",
   "metadata": {},
   "source": [
    "## Import what we need"
   ]
  },
  {
   "cell_type": "code",
   "execution_count": 1,
   "id": "cooked-vietnamese",
   "metadata": {
    "editable": true,
    "slideshow": {
     "slide_type": ""
    },
    "tags": []
   },
   "outputs": [
    {
     "data": {
      "text/plain": [
       "True"
      ]
     },
     "execution_count": 1,
     "metadata": {},
     "output_type": "execute_result"
    }
   ],
   "source": [
    "import json\n",
    "import os\n",
    "from datetime import datetime\n",
    "from pathlib import Path\n",
    "\n",
    "import pandas as pd\n",
    "import requests_cache\n",
    "from dotenv import load_dotenv\n",
    "from requests.adapters import HTTPAdapter\n",
    "from requests.packages.urllib3.util.retry import Retry\n",
    "from tqdm.auto import tqdm\n",
    "\n",
    "s = requests_cache.CachedSession()\n",
    "retries = Retry(total=5, backoff_factor=1, status_forcelist=[502, 503, 504])\n",
    "s.mount(\"https://\", HTTPAdapter(max_retries=retries))\n",
    "s.mount(\"http://\", HTTPAdapter(max_retries=retries))\n",
    "\n",
    "load_dotenv()"
   ]
  },
  {
   "cell_type": "code",
   "execution_count": 2,
   "id": "intimate-momentum",
   "metadata": {
    "tags": []
   },
   "outputs": [],
   "source": [
    "# Insert your Trove API key\n",
    "API_KEY = \"YOUR API KEY\"\n",
    "\n",
    "# Use api key value from environment variables if it is available\n",
    "if os.getenv(\"TROVE_API_KEY\"):\n",
    "    API_KEY = os.getenv(\"TROVE_API_KEY\")"
   ]
  },
  {
   "cell_type": "markdown",
   "id": "advanced-diary",
   "metadata": {},
   "source": [
    "## Define some functions"
   ]
  },
  {
   "cell_type": "code",
   "execution_count": 5,
   "id": "gentle-arabic",
   "metadata": {
    "tags": []
   },
   "outputs": [],
   "source": [
    "def get_total(params):\n",
    "    params[\"n\"] = 0\n",
    "    response = s.get(\"https://api.trove.nla.gov.au/v3/result\", params=params)\n",
    "    data = response.json()\n",
    "    return int(data[\"category\"][0][\"records\"][\"total\"])\n",
    "\n",
    "\n",
    "def get_metadata_source(record):\n",
    "    try:\n",
    "        source = record[\"metadataSource\"][\"value\"]\n",
    "    except TypeError:\n",
    "        source = record[\"metadataSource\"]\n",
    "    return source\n",
    "\n",
    "\n",
    "def extract_values(value, key=\"value\"):\n",
    "    \"\"\"\n",
    "    Some fields mix dicts and lists. Try to extract values from dicts and return only lists.\n",
    "    \"\"\"\n",
    "    values = []\n",
    "    value_list = [v for v in value if v]\n",
    "    for v in value_list:\n",
    "        try:\n",
    "            values.append(v[key].strip())\n",
    "        except (TypeError, KeyError):\n",
    "            values.append(v.strip())\n",
    "    return values\n",
    "\n",
    "\n",
    "def get_links(identifiers):\n",
    "    \"\"\"\n",
    "    Flatten the identifiers list of dicts into a dict with linktype as key.\n",
    "    \"\"\"\n",
    "    links = {}\n",
    "    for link in identifiers:\n",
    "        try:\n",
    "            links[f'{link[\"linktype\"]}_url'] = link[\"value\"]\n",
    "        except (TypeError, KeyError):\n",
    "            pass\n",
    "    return links\n",
    "\n",
    "\n",
    "def harvest(output_file=None, year=None):\n",
    "    Path(\"data\").mkdir(exist_ok=True)\n",
    "    if not output_file:\n",
    "        output_file = f'abcrn-{datetime.now().strftime(\"%Y%m%d\")}.ndjson'\n",
    "    output_file = Path(\"data\", output_file)\n",
    "    params = {\n",
    "        \"q\": 'nuc:\"ABC:RN\"',\n",
    "        \"category\": \"music\",\n",
    "        \"include\": \"workversions\",\n",
    "        \"n\": 100,\n",
    "        \"bulkHarvest\": \"true\",\n",
    "        \"encoding\": \"json\",\n",
    "        \"key\": API_KEY,\n",
    "    }\n",
    "    if year:\n",
    "        params[\"l-year\"] = year\n",
    "        params[\"l-decade\"] = year[:3]\n",
    "    start = \"*\"\n",
    "    total = get_total(params.copy())\n",
    "\n",
    "    with output_file.open(\"w\") as data_file:\n",
    "        with tqdm(total=total) as pbar:\n",
    "            while start:\n",
    "                params[\"s\"] = start\n",
    "                response = s.get(\n",
    "                    \"https://api.trove.nla.gov.au/v3/result\", params=params\n",
    "                )\n",
    "                data = response.json()\n",
    "                # Loop through the work records\n",
    "                records = data[\"category\"][0][\"records\"][\"work\"]\n",
    "                for record in records:\n",
    "                    # Now loop through the version records\n",
    "                    for version in record[\"version\"]:\n",
    "                        # Sometimes versions can themselves contain multiple records and ids\n",
    "                        # First we'll try splitting the ids in case there are multiple values\n",
    "                        ids = version[\"id\"].split()\n",
    "                        # Then we'll try looping through any sub-version records\n",
    "                        for i, subr in enumerate(version[\"record\"]):\n",
    "                            # Get the metadata source so we can filter out any records we don't want\n",
    "                            subv = subr[\"metadata\"][\"dc\"]\n",
    "                            source = get_metadata_source(subr)\n",
    "                            if source == \"ABC:RN\":\n",
    "                                # Add work id to the record\n",
    "                                metadata = {\n",
    "                                    \"work_id\": record[\"id\"],\n",
    "                                    \"version_id\": ids[i],\n",
    "                                    \"title\": extract_values(subv[\"title\"]),\n",
    "                                    \"date\": extract_values(subv[\"date\"]),\n",
    "                                    \"isPartOf\": extract_values(subv[\"isPartOf\"]),\n",
    "                                    \"creator\": extract_values(\n",
    "                                        subv[\"creator\"], key=\"name\"\n",
    "                                    ),\n",
    "                                    \"contributor\": extract_values(subv[\"contributor\"]),\n",
    "                                    \"abstract\": extract_values(subv[\"abstract\"]),\n",
    "                                    \"type\": extract_values(subv[\"type\"]),\n",
    "                                    \"format\": extract_values(subv[\"format\"]),\n",
    "                                }\n",
    "                                # Get links by flattening the identifiers field and add to record\n",
    "                                links = get_links(subv[\"identifier\"])\n",
    "                                metadata.update(links)\n",
    "                                # remove unnecessary identifiers field\n",
    "                                data_file.write(f\"{json.dumps(metadata)}\\n\")\n",
    "                try:\n",
    "                    start = data[\"category\"][0][\"records\"][\"nextStart\"]\n",
    "                except KeyError:\n",
    "                    start = None\n",
    "                pbar.update(len(records))"
   ]
  },
  {
   "cell_type": "markdown",
   "id": "eastern-trailer",
   "metadata": {},
   "source": [
    "## Harvest the data!"
   ]
  },
  {
   "cell_type": "code",
   "execution_count": 6,
   "id": "engaged-salon",
   "metadata": {
    "tags": [
     "nbval-skip"
    ]
   },
   "outputs": [
    {
     "data": {
      "application/vnd.jupyter.widget-view+json": {
       "model_id": "86aa2d98805b4db4900a7031dd65ec1e",
       "version_major": 2,
       "version_minor": 0
      },
      "text/plain": [
       "  0%|          | 0/438838 [00:00<?, ?it/s]"
      ]
     },
     "metadata": {},
     "output_type": "display_data"
    }
   ],
   "source": [
    "output_file = f'abcrn-{datetime.now().strftime(\"%Y%m%d\")}.ndjson'\n",
    "\n",
    "harvest(output_file=output_file)"
   ]
  },
  {
   "cell_type": "markdown",
   "id": "opened-lindsay",
   "metadata": {},
   "source": [
    "## Remove duplicate records\n",
    "\n",
    "How many records have we harvested? Let's load the `ndjson` file into a dataframe and explore."
   ]
  },
  {
   "cell_type": "code",
   "execution_count": 7,
   "id": "uniform-parks",
   "metadata": {
    "tags": [
     "nbval-skip"
    ]
   },
   "outputs": [
    {
     "data": {
      "text/html": [
       "<div>\n",
       "<style scoped>\n",
       "    .dataframe tbody tr th:only-of-type {\n",
       "        vertical-align: middle;\n",
       "    }\n",
       "\n",
       "    .dataframe tbody tr th {\n",
       "        vertical-align: top;\n",
       "    }\n",
       "\n",
       "    .dataframe thead th {\n",
       "        text-align: right;\n",
       "    }\n",
       "</style>\n",
       "<table border=\"1\" class=\"dataframe\">\n",
       "  <thead>\n",
       "    <tr style=\"text-align: right;\">\n",
       "      <th></th>\n",
       "      <th>work_id</th>\n",
       "      <th>version_id</th>\n",
       "      <th>title</th>\n",
       "      <th>date</th>\n",
       "      <th>isPartOf</th>\n",
       "      <th>creator</th>\n",
       "      <th>contributor</th>\n",
       "      <th>abstract</th>\n",
       "      <th>type</th>\n",
       "      <th>format</th>\n",
       "      <th>fulltext_url</th>\n",
       "      <th>thumbnail_url</th>\n",
       "      <th>notonline_url</th>\n",
       "    </tr>\n",
       "  </thead>\n",
       "  <tbody>\n",
       "    <tr>\n",
       "      <th>0</th>\n",
       "      <td>14882967</td>\n",
       "      <td>195385238</td>\n",
       "      <td>[RU 486]</td>\n",
       "      <td>[1997-09-22]</td>\n",
       "      <td>[ABC Radio National. Health Report]</td>\n",
       "      <td>[Australian Broadcasting Corporation. Radio Na...</td>\n",
       "      <td>[Dr Norman Swan]</td>\n",
       "      <td>[What politicians believe is good for women's ...</td>\n",
       "      <td>[Sound, Transcript, Radio Broadcast]</td>\n",
       "      <td>[text/html, Transcript]</td>\n",
       "      <td>http://www.abc.net.au/radionational/programs/h...</td>\n",
       "      <td>http://www.abc.net.au/radionational/image/3699...</td>\n",
       "      <td>NaN</td>\n",
       "    </tr>\n",
       "    <tr>\n",
       "      <th>1</th>\n",
       "      <td>151422764</td>\n",
       "      <td>195400866</td>\n",
       "      <td>[Copyright and the courts]</td>\n",
       "      <td>[2011-05-12]</td>\n",
       "      <td>[ABC Radio National. Law Report]</td>\n",
       "      <td>[Australian Broadcasting Corporation. Radio Na...</td>\n",
       "      <td>[David, Sabiene Heindl, Jock Given, Ross Steve...</td>\n",
       "      <td>[There's an on-going courtroom war between cop...</td>\n",
       "      <td>[Sound, Transcript, Radio Broadcast]</td>\n",
       "      <td>[Audio, Transcript]</td>\n",
       "      <td>http://www.abc.net.au/radionational/programs/l...</td>\n",
       "      <td>http://www.abc.net.au/radionational/image/3699...</td>\n",
       "      <td>NaN</td>\n",
       "    </tr>\n",
       "    <tr>\n",
       "      <th>2</th>\n",
       "      <td>15426408</td>\n",
       "      <td>206893518</td>\n",
       "      <td>[The Law Report]</td>\n",
       "      <td>[2014-03-25]</td>\n",
       "      <td>[ABC Radio National. RN Breakfast]</td>\n",
       "      <td>[Australian Broadcasting Corporation. Radio Na...</td>\n",
       "      <td>[Damien Carrick, Fran Kelly]</td>\n",
       "      <td>[Disability rights lawyer and endurance athlet...</td>\n",
       "      <td>[Sound, Transcript, Radio Broadcast]</td>\n",
       "      <td>[text/html]</td>\n",
       "      <td>http://www.abc.net.au/radionational/programs/b...</td>\n",
       "      <td>http://www.abc.net.au/radionational/image/3699...</td>\n",
       "      <td>NaN</td>\n",
       "    </tr>\n",
       "    <tr>\n",
       "      <th>3</th>\n",
       "      <td>15426408</td>\n",
       "      <td>206591783</td>\n",
       "      <td>[The Law Report]</td>\n",
       "      <td>[2014-02-11]</td>\n",
       "      <td>[ABC Radio National. RN Breakfast]</td>\n",
       "      <td>[Australian Broadcasting Corporation. Radio Na...</td>\n",
       "      <td>[Damien Carrick, Fran Kelly]</td>\n",
       "      <td>[Professor Andrew Ashworth, one of the United ...</td>\n",
       "      <td>[Sound, Transcript, Radio Broadcast]</td>\n",
       "      <td>[text/html]</td>\n",
       "      <td>http://www.abc.net.au/radionational/programs/b...</td>\n",
       "      <td>http://www.abc.net.au/radionational/image/3699...</td>\n",
       "      <td>NaN</td>\n",
       "    </tr>\n",
       "    <tr>\n",
       "      <th>4</th>\n",
       "      <td>156082218</td>\n",
       "      <td>209405411</td>\n",
       "      <td>[East Timor Since Independence]</td>\n",
       "      <td>[2006-06-29]</td>\n",
       "      <td>[ABC Radio National. Rear Vision]</td>\n",
       "      <td>[Australian Broadcasting Corporation. Radio Na...</td>\n",
       "      <td>[Dr Dennis Shoesmith, Rob Wesley Smith, James ...</td>\n",
       "      <td>[What has happened in East Timor since indepen...</td>\n",
       "      <td>[Text, Transcript, Radio Broadcast]</td>\n",
       "      <td>[Audio]</td>\n",
       "      <td>http://www.abc.net.au/radionational/programs/r...</td>\n",
       "      <td>http://www.abc.net.au/radionational/image/3699...</td>\n",
       "      <td>NaN</td>\n",
       "    </tr>\n",
       "  </tbody>\n",
       "</table>\n",
       "</div>"
      ],
      "text/plain": [
       "     work_id  version_id                            title          date  \\\n",
       "0   14882967   195385238                         [RU 486]  [1997-09-22]   \n",
       "1  151422764   195400866       [Copyright and the courts]  [2011-05-12]   \n",
       "2   15426408   206893518                 [The Law Report]  [2014-03-25]   \n",
       "3   15426408   206591783                 [The Law Report]  [2014-02-11]   \n",
       "4  156082218   209405411  [East Timor Since Independence]  [2006-06-29]   \n",
       "\n",
       "                              isPartOf  \\\n",
       "0  [ABC Radio National. Health Report]   \n",
       "1     [ABC Radio National. Law Report]   \n",
       "2   [ABC Radio National. RN Breakfast]   \n",
       "3   [ABC Radio National. RN Breakfast]   \n",
       "4    [ABC Radio National. Rear Vision]   \n",
       "\n",
       "                                             creator  \\\n",
       "0  [Australian Broadcasting Corporation. Radio Na...   \n",
       "1  [Australian Broadcasting Corporation. Radio Na...   \n",
       "2  [Australian Broadcasting Corporation. Radio Na...   \n",
       "3  [Australian Broadcasting Corporation. Radio Na...   \n",
       "4  [Australian Broadcasting Corporation. Radio Na...   \n",
       "\n",
       "                                         contributor  \\\n",
       "0                                   [Dr Norman Swan]   \n",
       "1  [David, Sabiene Heindl, Jock Given, Ross Steve...   \n",
       "2                       [Damien Carrick, Fran Kelly]   \n",
       "3                       [Damien Carrick, Fran Kelly]   \n",
       "4  [Dr Dennis Shoesmith, Rob Wesley Smith, James ...   \n",
       "\n",
       "                                            abstract  \\\n",
       "0  [What politicians believe is good for women's ...   \n",
       "1  [There's an on-going courtroom war between cop...   \n",
       "2  [Disability rights lawyer and endurance athlet...   \n",
       "3  [Professor Andrew Ashworth, one of the United ...   \n",
       "4  [What has happened in East Timor since indepen...   \n",
       "\n",
       "                                   type                   format  \\\n",
       "0  [Sound, Transcript, Radio Broadcast]  [text/html, Transcript]   \n",
       "1  [Sound, Transcript, Radio Broadcast]      [Audio, Transcript]   \n",
       "2  [Sound, Transcript, Radio Broadcast]              [text/html]   \n",
       "3  [Sound, Transcript, Radio Broadcast]              [text/html]   \n",
       "4   [Text, Transcript, Radio Broadcast]                  [Audio]   \n",
       "\n",
       "                                        fulltext_url  \\\n",
       "0  http://www.abc.net.au/radionational/programs/h...   \n",
       "1  http://www.abc.net.au/radionational/programs/l...   \n",
       "2  http://www.abc.net.au/radionational/programs/b...   \n",
       "3  http://www.abc.net.au/radionational/programs/b...   \n",
       "4  http://www.abc.net.au/radionational/programs/r...   \n",
       "\n",
       "                                       thumbnail_url notonline_url  \n",
       "0  http://www.abc.net.au/radionational/image/3699...           NaN  \n",
       "1  http://www.abc.net.au/radionational/image/3699...           NaN  \n",
       "2  http://www.abc.net.au/radionational/image/3699...           NaN  \n",
       "3  http://www.abc.net.au/radionational/image/3699...           NaN  \n",
       "4  http://www.abc.net.au/radionational/image/3699...           NaN  "
      ]
     },
     "execution_count": 7,
     "metadata": {},
     "output_type": "execute_result"
    }
   ],
   "source": [
    "# The lines param tells pandas there's one JSON object per line.\n",
    "df = pd.read_json(Path(\"data\", output_file), lines=True)\n",
    "df.head()"
   ]
  },
  {
   "cell_type": "code",
   "execution_count": 8,
   "id": "danish-journalism",
   "metadata": {
    "tags": [
     "nbval-skip"
    ]
   },
   "outputs": [
    {
     "data": {
      "text/plain": [
       "(484078, 13)"
      ]
     },
     "execution_count": 8,
     "metadata": {},
     "output_type": "execute_result"
    }
   ],
   "source": [
    "df.shape"
   ]
  },
  {
   "cell_type": "markdown",
   "id": "e852ef9e-e879-485e-a0f2-b825898b99c9",
   "metadata": {},
   "source": [
    "Most of the fields contains lists of values (though there may only be one value in the list). To check for duplicates we need to convert these lists into strings. If there are multiple values, they'll be separated by a pipe (`|`) character."
   ]
  },
  {
   "cell_type": "code",
   "execution_count": 9,
   "id": "c29dbe05-c34e-46be-9e1a-7227c281adb5",
   "metadata": {
    "editable": true,
    "slideshow": {
     "slide_type": ""
    },
    "tags": [
     "nbval-skip"
    ]
   },
   "outputs": [],
   "source": [
    "cols_with_lists = [\n",
    "    \"title\",\n",
    "    \"isPartOf\",\n",
    "    \"date\",\n",
    "    \"creator\",\n",
    "    \"contributor\",\n",
    "    \"type\",\n",
    "    \"format\",\n",
    "    \"abstract\",\n",
    "]\n",
    "for col in cols_with_lists:\n",
    "    df[col] = df[col].str.join(\"|\")"
   ]
  },
  {
   "cell_type": "markdown",
   "id": "collected-ecuador",
   "metadata": {},
   "source": [
    "You'd expect the combination of `title`, `date`, and program (in the `isPartOf` field) to be unique – let's see."
   ]
  },
  {
   "cell_type": "code",
   "execution_count": 10,
   "id": "adapted-arlington",
   "metadata": {
    "editable": true,
    "slideshow": {
     "slide_type": ""
    },
    "tags": [
     "nbval-skip"
    ]
   },
   "outputs": [
    {
     "data": {
      "text/plain": [
       "(56937, 13)"
      ]
     },
     "execution_count": 10,
     "metadata": {},
     "output_type": "execute_result"
    }
   ],
   "source": [
    "df.loc[df.duplicated(subset=(\"title\", \"date\", \"isPartOf\"))].shape"
   ]
  },
  {
   "cell_type": "markdown",
   "id": "driven-casting",
   "metadata": {},
   "source": [
    "There seem to be quite a lot of duplicates! Let's remove the duplicates based on the `title`, `date`, and `isPartOf` fields. By adding `fulltext_url` to the sort, I'm hoping to drop the duplicates without urls (by default `drop_duplicates` keeps the first version of a duplicated record)."
   ]
  },
  {
   "cell_type": "code",
   "execution_count": 11,
   "id": "challenging-array",
   "metadata": {
    "tags": [
     "nbval-skip"
    ]
   },
   "outputs": [],
   "source": [
    "df = df.sort_values(by=[\"title\", \"date\", \"fulltext_url\"]).drop_duplicates(\n",
    "    subset=[\"title\", \"date\", \"isPartOf\"]\n",
    ")"
   ]
  },
  {
   "cell_type": "markdown",
   "id": "approved-isaac",
   "metadata": {},
   "source": [
    "Now how many do we have?"
   ]
  },
  {
   "cell_type": "code",
   "execution_count": 12,
   "id": "advised-compression",
   "metadata": {
    "tags": [
     "nbval-skip"
    ]
   },
   "outputs": [
    {
     "data": {
      "text/plain": [
       "(427141, 13)"
      ]
     },
     "execution_count": 12,
     "metadata": {},
     "output_type": "execute_result"
    }
   ],
   "source": [
    "df.shape"
   ]
  },
  {
   "cell_type": "markdown",
   "id": "earned-sydney",
   "metadata": {},
   "source": [
    "##  Save as CSV"
   ]
  },
  {
   "cell_type": "code",
   "execution_count": 13,
   "id": "signal-czech",
   "metadata": {
    "tags": [
     "nbval-skip"
    ]
   },
   "outputs": [],
   "source": [
    "csv_file = Path(\"data\", f'abcrn-{datetime.now().strftime(\"%Y%m%d\")}.csv')\n",
    "df.to_csv(csv_file, index=False)"
   ]
  },
  {
   "cell_type": "markdown",
   "id": "promotional-multiple",
   "metadata": {},
   "source": [
    "## Create CSV downloads for individual programs\n",
    "\n",
    "Here's the programs with the most records. Note that some like RN Breakfast are split between two `isPartOf` values, 'ABC Radio National. RN Breakfast' and 'ABC Radio. RN Breakfast'."
   ]
  },
  {
   "cell_type": "code",
   "execution_count": 14,
   "id": "mounted-privilege",
   "metadata": {
    "tags": [
     "nbval-skip"
    ]
   },
   "outputs": [
    {
     "data": {
      "text/plain": [
       "ABC Radio National. RN Breakfast        63676\n",
       "ABC Radio. AM                           56009\n",
       "ABC Radio. The World Today              51643\n",
       "ABC Radio. PM                           51231\n",
       "ABC Radio. RN Breakfast                 19877\n",
       "ABC Radio National. RN Drive            13785\n",
       "ABC Radio. RN Drive                     12758\n",
       "ABC Radio National. Late Night Live     10689\n",
       "ABC Radio National. Life Matters        10658\n",
       "ABC Radio. AM Archive                    9825\n",
       "ABC Radio. PM Archive                    8430\n",
       "ABC Radio National. The Science Show     8020\n",
       "ABC Radio. The World Today Archive       7902\n",
       "ABC Radio National. Saturday Extra       6545\n",
       "ABC Radio National. Health Report        5041\n",
       "ABC Radio                                4638\n",
       "ABC Radio National. Counterpoint         4472\n",
       "ABC Radio National. Sunday Extra         4246\n",
       "ABC Radio. Correspondents Report         4005\n",
       "ABC Radio National. AWAYE!               3456\n",
       "Name: isPartOf, dtype: int64"
      ]
     },
     "execution_count": 14,
     "metadata": {},
     "output_type": "execute_result"
    }
   ],
   "source": [
    "df[\"isPartOf\"].value_counts()[:20]"
   ]
  },
  {
   "cell_type": "markdown",
   "id": "needed-account",
   "metadata": {},
   "source": [
    "Let's save the programs with the most records as separate CSV files to make them a bit easier to work with. We'll also group together programs with multiple `isPartOf` values."
   ]
  },
  {
   "cell_type": "code",
   "execution_count": 15,
   "id": "essential-communication",
   "metadata": {
    "tags": [
     "nbval-skip"
    ]
   },
   "outputs": [],
   "source": [
    "programs = {\n",
    "    \"breakfast\": [\"ABC Radio National. RN Breakfast\", \"ABC Radio. RN Breakfast\"],\n",
    "    \"am\": [\"ABC Radio. AM\", \"ABC Radio. AM Archive\"],\n",
    "    \"pm\": [\"ABC Radio. PM\", \"ABC Radio. PM Archive\"],\n",
    "    \"world_today\": [\"ABC Radio. The World Today\", \"ABC Radio. The World Today Archive\"],\n",
    "    \"drive\": [\"ABC Radio. RN Drive\", \"ABC Radio National. RN Drive\"],\n",
    "    \"latenight\": [\"ABC Radio National. Late Night Live\"],\n",
    "    \"lifematters\": [\"ABC Radio National. Life Matters\"],\n",
    "    \"scienceshow\": [\"ABC Radio National. The Science Show\"],\n",
    "}\n",
    "\n",
    "for program, labels in programs.items():\n",
    "    dfp = df.loc[df[\"isPartOf\"].isin(labels)].sort_values(by=[\"date\", \"title\"])\n",
    "    csv_file = Path(\"data\", f'{program}-{datetime.now().strftime(\"%Y%m%d\")}.csv')\n",
    "    dfp.to_csv(csv_file, index=False)"
   ]
  },
  {
   "cell_type": "code",
   "execution_count": 16,
   "id": "4b4f2f9e-2275-4d91-b480-05e0f2c1ccb1",
   "metadata": {
    "tags": []
   },
   "outputs": [
    {
     "data": {
      "application/vnd.jupyter.widget-view+json": {
       "model_id": "8285edfb204f4cf081fb483079a01286",
       "version_major": 2,
       "version_minor": 0
      },
      "text/plain": [
       "  0%|          | 0/403 [00:00<?, ?it/s]"
      ]
     },
     "metadata": {},
     "output_type": "display_data"
    }
   ],
   "source": [
    "# This is just a small automated test used in development\n",
    "# You can ignore this cell\n",
    "if os.getenv(\"GW_STATUS\") == \"dev\":\n",
    "    output_file = f'abcrn-test-{datetime.now().strftime(\"%Y%m%d\")}.ndjson'\n",
    "    output_path = Path(\"data\", output_file)\n",
    "    harvest(output_file=output_file, year=\"2022\")\n",
    "    df = pd.read_json(output_path, lines=True)\n",
    "    assert df.empty is False\n",
    "    output_path.unlink()"
   ]
  },
  {
   "cell_type": "markdown",
   "id": "adequate-illinois",
   "metadata": {},
   "source": [
    "----\n",
    "\n",
    "Created by [Tim Sherratt](https://timsherratt.org) for the [GLAM Workbench](https://glam-workbench.github.io/)"
   ]
  }
 ],
 "metadata": {
  "kernelspec": {
   "display_name": "Python 3 (ipykernel)",
   "language": "python",
   "name": "python3"
  },
  "language_info": {
   "codemirror_mode": {
    "name": "ipython",
    "version": 3
   },
   "file_extension": ".py",
   "mimetype": "text/x-python",
   "name": "python",
   "nbconvert_exporter": "python",
   "pygments_lexer": "ipython3",
   "version": "3.10.2"
  },
  "rocrate": {
   "author": [
    {
     "name": "Sherratt, Tim",
     "orcid": "https://orcid.org/0000-0001-7956-4498"
    }
   ],
   "description": "",
   "name": "Download summaries and transcripts from oral histories",
   "result": [
    "https://github.com/GLAM-Workbench/trove-abcrn-data/blob/main/abcrn-metadata.ndjson",
    "https://github.com/GLAM-Workbench/trove-abcrn-data/blob/main/abcrn-metadata.csv",
    "https://github.com/GLAM-Workbench/trove-abcrn-data/blob/main/abcrn-am-metadata.csv",
    "https://github.com/GLAM-Workbench/trove-abcrn-data/blob/main/abcrn-breakfast-metadata.csv",
    "https://github.com/GLAM-Workbench/trove-abcrn-data/blob/main/abcrn-drive-metadata.csv",
    "https://github.com/GLAM-Workbench/trove-abcrn-data/blob/main/abcrn-latenight-metadata.csv",
    "https://github.com/GLAM-Workbench/trove-abcrn-data/blob/main/abcrn-lifematters-metadata.csv",
    "https://github.com/GLAM-Workbench/trove-abcrn-data/blob/main/abcrn-pm-metadata.csv",
    "https://github.com/GLAM-Workbench/trove-abcrn-data/blob/main/abcrn-scienceshow-metadata.csv",
    "https://github.com/GLAM-Workbench/trove-abcrn-data/blob/main/abcrn-worldtoday-metadata.csv"
   ]
  }
 },
 "nbformat": 4,
 "nbformat_minor": 5
}
