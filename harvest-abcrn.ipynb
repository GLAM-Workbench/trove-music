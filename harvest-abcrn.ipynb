{
 "cells": [
  {
   "cell_type": "markdown",
   "id": "electoral-stocks",
   "metadata": {},
   "source": [
    "# Harvest ABC Radio National records from Trove\n",
    "\n",
    "Trove harvests details of programs and segments broadcast on ABC Radio National. You can find them by [searching](https://trove.nla.gov.au/search/category/music?keyword=nuc%3A%22ABC%3ARN%22) for `nuc:\"ABC:RN\"` in the Music & Audio category. The records include basic metadata such as titles, dates, and contributors, but not full transcripts or audio.\n",
    "\n",
    "I harvested this metadata [back in 2016](https://github.com/wragge/radio-national-data), but haven't done any updates recently because there seemed to be a lot of duplicate records. I decided to just go ahead and harvest the records, and then deal with the duplicates using Pandas. There don't seem to have been any additions to the data since early 2022.\n",
    "\n",
    "There are also quite a lot of inconsistencies in the way the data is formatted – some fields can contain a variety of arrays, strings, and objects. I've tried to standardise these as much as possible. The harvesting and cleaning is all documented below.\n",
    "\n",
    "The harvested data is available for download from CloudStor as a **576mb [NDJSON file](https://cloudstor.aarnet.edu.au/plus/s/z4nPOvifevfnjDI/download)** (with a separate JSON object for each record, separated by line breaks) and as a **334mb [CSV file](https://cloudstor.aarnet.edu.au/plus/s/ry50ZpoSjOFbb8b/download)** (with lists saved as pipe-separated strings).\n",
    "\n",
    "There are **421,277** records from about **163 programs** (the actual number of programs is less than this, as the names used for some programs varies). See [this notebook](explore-abcrn-data.ipynb) for some examples of how you can start exploring the data.\n",
    "\n",
    "For convenience, I've also created separate CSV files for the programs with the most records, you can download them from CloudStor:\n",
    "\n",
    "* [RN Breakfast](https://cloudstor.aarnet.edu.au/plus/s/IdElCP4ayKaGSE3/download)\n",
    "* [RN Drive](https://cloudstor.aarnet.edu.au/plus/s/FMxUxCQMF5tiVZ9/download)\n",
    "* [AM](https://cloudstor.aarnet.edu.au/plus/s/14zqZJUdQxW4tUU/download)\n",
    "* [PM](https://cloudstor.aarnet.edu.au/plus/s/ou19G6YnCy08vxM/download)\n",
    "* [The World Today](https://cloudstor.aarnet.edu.au/plus/s/IMB7vmpbosCpjJJ/download)\n",
    "* [Late Night Live](https://cloudstor.aarnet.edu.au/plus/s/N0wyVk6U9GebUrA/download)\n",
    "* [Life Matters](https://cloudstor.aarnet.edu.au/plus/s/rasQDezpeRM0J9W/download)\n",
    "* [The Science Show](https://cloudstor.aarnet.edu.au/plus/s/eGl1jGIa5A1fgP1/download)\n",
    "\n",
    "## Data fields\n",
    "\n",
    "Any of the fields other than `work_id` and `version_id` might be empty, though in most cases there should at least be values for `title`, `date`, `creator`, `contributor` and `isPartOf`.\n",
    "\n",
    "* `work_id` – identifier for the containing work in Trove (you can use this to create a url to the item)\n",
    "* `version_id` – an identifier for the version within the work\n",
    "* `title` – title for the program or segment\n",
    "* `isPartOf` – name of the program this is a part of\n",
    "* `date` – ISO formatted date\n",
    "* `creator` – usually just the ABC\n",
    "* `contributor` – a list of names of those involved, such as the host, reporter or guest\n",
    "* `publisher` – usually just the ABC\n",
    "* `rights` – copyright information\n",
    "* `type` – list of types (not sure how this differa from `format`)\n",
    "* `format` – list of formats (not sure how this differs from `type`)\n",
    "* `abstract` – text providing a summary of the program or segment (may incude multiple values)\n",
    "* `subject` – list of subject tags (uncontrolled and very messy)\n",
    "* `description` – truncated text fragment from the start of the transcript (may include multiple values)\n",
    "* `fulltext_url` – link to the page on the ABC website where you can find more information\n",
    "* `thumbnail_url` – link to a related thumbnail image on the ABC website\n",
    "* `notonline_url` – not sure..."
   ]
  },
  {
   "cell_type": "markdown",
   "id": "simplified-brighton",
   "metadata": {},
   "source": [
    "## Import what we need"
   ]
  },
  {
   "cell_type": "code",
   "execution_count": 23,
   "id": "cooked-vietnamese",
   "metadata": {
    "tags": []
   },
   "outputs": [],
   "source": [
    "import json\n",
    "import os\n",
    "import time\n",
    "from datetime import datetime\n",
    "from pathlib import Path\n",
    "\n",
    "import pandas as pd\n",
    "import requests_cache\n",
    "from requests.adapters import HTTPAdapter\n",
    "from requests.packages.urllib3.util.retry import Retry\n",
    "from tqdm.auto import tqdm\n",
    "\n",
    "s = requests_cache.CachedSession()\n",
    "retries = Retry(total=5, backoff_factor=1, status_forcelist=[502, 503, 504])\n",
    "s.mount(\"https://\", HTTPAdapter(max_retries=retries))\n",
    "s.mount(\"http://\", HTTPAdapter(max_retries=retries))"
   ]
  },
  {
   "cell_type": "code",
   "execution_count": 6,
   "id": "084e886d-6db9-4bf9-9b05-2aeae97bf5e9",
   "metadata": {
    "tags": []
   },
   "outputs": [],
   "source": [
    "%%capture\n",
    "# Load variables from the .env file if it exists\n",
    "# Use %%capture to suppress messages\n",
    "%load_ext dotenv\n",
    "%dotenv"
   ]
  },
  {
   "cell_type": "code",
   "execution_count": 7,
   "id": "intimate-momentum",
   "metadata": {
    "tags": []
   },
   "outputs": [],
   "source": [
    "# Insert your Trove API key\n",
    "API_KEY = \"YOUR API KEY\"\n",
    "\n",
    "# Use api key value from environment variables if it is available\n",
    "if os.getenv(\"TROVE_API_KEY\"):\n",
    "    API_KEY = os.getenv(\"TROVE_API_KEY\")"
   ]
  },
  {
   "cell_type": "markdown",
   "id": "advanced-diary",
   "metadata": {},
   "source": [
    "## Define some functions"
   ]
  },
  {
   "cell_type": "code",
   "execution_count": 36,
   "id": "gentle-arabic",
   "metadata": {
    "tags": []
   },
   "outputs": [],
   "source": [
    "def get_total(params):\n",
    "    params[\"n\"] = 0\n",
    "    response = s.get(\"https://api.trove.nla.gov.au/v2/result\", params=params)\n",
    "    data = response.json()\n",
    "    return int(data[\"response\"][\"zone\"][0][\"records\"][\"total\"])\n",
    "\n",
    "\n",
    "def get_metadata_source(record):\n",
    "    try:\n",
    "        source = record[\"metadataSource\"][\"value\"]\n",
    "    except TypeError:\n",
    "        source = record[\"metadataSource\"]\n",
    "    return source\n",
    "\n",
    "\n",
    "def make_list(value):\n",
    "    \"\"\"\n",
    "    Some fields are mixed lists and strings, use this to turn them all into lists.\n",
    "    \"\"\"\n",
    "    if isinstance(value, list):\n",
    "        return value\n",
    "    else:\n",
    "        return [value]\n",
    "\n",
    "\n",
    "def unmake_list(value, sep=\"|\"):\n",
    "    \"\"\"\n",
    "    If a value is a list, join the values into a string.\n",
    "    \"\"\"\n",
    "    if isinstance(value, list):\n",
    "        return sep.join(value)\n",
    "    else:\n",
    "        return value\n",
    "\n",
    "\n",
    "def extract_values(value):\n",
    "    \"\"\"\n",
    "    Some fields mix dicts and lists. Try to extract values from dicts and return only lists.\n",
    "    \"\"\"\n",
    "    values = []\n",
    "    value_list = make_list(value)\n",
    "    for v in value_list:\n",
    "        try:\n",
    "            values.append(v[\"value\"])\n",
    "        except (TypeError, KeyError):\n",
    "            values.append(v)\n",
    "    return values\n",
    "\n",
    "\n",
    "def normalise_date(value):\n",
    "    \"\"\"\n",
    "    Dates can be strings, dicts, or lists.\n",
    "    Try to return a single ISO date string.\n",
    "    \"\"\"\n",
    "    if isinstance(value, list):\n",
    "        try:\n",
    "            date = value[0][\"value\"]\n",
    "        except (KeyError, TypeError):\n",
    "            date = sorted(value, key=len)[0]\n",
    "    elif isinstance(value, dict):\n",
    "        date = value[\"value\"]\n",
    "    else:\n",
    "        date = value\n",
    "    return date[:10]\n",
    "\n",
    "\n",
    "def get_links(identifiers):\n",
    "    \"\"\"\n",
    "    Flatten the identifiers list of dicts into a dict with linktype as key.\n",
    "    \"\"\"\n",
    "    links = {}\n",
    "    for link in identifiers:\n",
    "        try:\n",
    "            links[f'{link[\"linktype\"]}_url'] = link[\"value\"]\n",
    "        except (TypeError, KeyError):\n",
    "            pass\n",
    "    return links\n",
    "\n",
    "\n",
    "def harvest(output_file=None, year=None):\n",
    "    Path(\"data\").mkdir(exist_ok=True)\n",
    "    if not output_file:\n",
    "        output_file = f'abcrn-{datetime.now().strftime(\"%Y%m%d\")}.ndjson'\n",
    "    output_file = Path(\"data\", output_file)\n",
    "    params = {\n",
    "        \"q\": 'nuc:\"ABC:RN\"',\n",
    "        \"zone\": \"music\",\n",
    "        \"include\": \"workversions\",\n",
    "        \"n\": 100,\n",
    "        \"bulkHarvest\": \"true\",\n",
    "        \"encoding\": \"json\",\n",
    "        \"key\": API_KEY,\n",
    "    }\n",
    "    if year:\n",
    "        params[\"l-year\"] = year\n",
    "        params[\"l-decade\"] = year[:3]\n",
    "    start = \"*\"\n",
    "    total = get_total(params.copy())\n",
    "\n",
    "    with output_file.open(\"w\") as data_file:\n",
    "        with tqdm(total=total) as pbar:\n",
    "            while start:\n",
    "                params[\"s\"] = start\n",
    "                response = s.get(\n",
    "                    \"https://api.trove.nla.gov.au/v2/result\", params=params\n",
    "                )\n",
    "                data = response.json()\n",
    "                # Loop through the work records\n",
    "                records = data[\"response\"][\"zone\"][0][\"records\"][\"work\"]\n",
    "                for record in records:\n",
    "                    # Now loop through the version records\n",
    "                    for version in record[\"version\"]:\n",
    "                        # Sometimes versions can themselves contain multiple records and ids\n",
    "                        # First we'll try splitting the ids in case there are multiple values\n",
    "                        ids = version[\"id\"].split()\n",
    "                        # Then we'll try looping through any sub-version records\n",
    "                        for i, subv in enumerate(make_list(version[\"record\"])):\n",
    "                            # Get the metadata source so we can filter out any records we don't want\n",
    "                            source = get_metadata_source(subv)\n",
    "                            if source == \"ABC:RN\":\n",
    "                                # Add work id to the record\n",
    "                                subv[\"work_id\"] = record[\"id\"]\n",
    "                                # Add version id to the record\n",
    "                                subv[\"version_id\"] = ids[i]\n",
    "                                # Remove space around title\n",
    "                                if \"title\" in subv:\n",
    "                                    subv[\"title\"] = str(subv[\"title\"]).strip()\n",
    "                                # Dates can be strings, docts, or lists - normalise them!\n",
    "                                if \"date\" in subv:\n",
    "                                    subv[\"date\"] = normalise_date(subv[\"date\"])\n",
    "                                # Make sure these are just strings\n",
    "                                if \"isPartOf\" in subv:\n",
    "                                    subv[\"isPartOf\"] = unmake_list(subv[\"isPartOf\"])\n",
    "                                # Try to standardise the formats of these fields -- turn them all into simple lists\n",
    "                                if \"creator\" in subv:\n",
    "                                    subv[\"creator\"] = extract_values(subv[\"creator\"])\n",
    "                                if \"contributor\" in subv:\n",
    "                                    subv[\"contributor\"] = extract_values(\n",
    "                                        subv[\"contributor\"]\n",
    "                                    )\n",
    "                                if \"description\" in subv:\n",
    "                                    subv[\"description\"] = extract_values(\n",
    "                                        subv[\"description\"]\n",
    "                                    )\n",
    "                                # Make sure these are all lists\n",
    "                                if \"type\" in subv:\n",
    "                                    subv[\"type\"] = make_list(subv[\"type\"])\n",
    "                                if \"format\" in subv:\n",
    "                                    subv[\"format\"] = make_list(subv[\"format\"])\n",
    "                                # Get links by flattening the identifiers field and add to record\n",
    "                                links = get_links(subv[\"identifier\"])\n",
    "                                subv.update(links)\n",
    "                                # remove unnecessary identifiers field\n",
    "                                del subv[\"identifier\"]\n",
    "                                data_file.write(f\"{json.dumps(subv)}\\n\")\n",
    "                try:\n",
    "                    start = data[\"response\"][\"zone\"][0][\"records\"][\"nextStart\"]\n",
    "                except KeyError:\n",
    "                    start = None\n",
    "                pbar.update(len(records))\n",
    "                if not response.from_cache:\n",
    "                    time.sleep(0.2)"
   ]
  },
  {
   "cell_type": "markdown",
   "id": "eastern-trailer",
   "metadata": {},
   "source": [
    "## Harvest the data!"
   ]
  },
  {
   "cell_type": "code",
   "execution_count": 37,
   "id": "engaged-salon",
   "metadata": {
    "tags": [
     "nbval-skip"
    ]
   },
   "outputs": [
    {
     "data": {
      "application/vnd.jupyter.widget-view+json": {
       "model_id": "9ed0585b774842b193d0f789b654029e",
       "version_major": 2,
       "version_minor": 0
      },
      "text/plain": [
       "  0%|          | 0/438838 [00:00<?, ?it/s]"
      ]
     },
     "metadata": {},
     "output_type": "display_data"
    }
   ],
   "source": [
    "output_file = f'abcrn-{datetime.now().strftime(\"%Y%m%d\")}.ndjson'\n",
    "\n",
    "harvest(output_file=output_file)"
   ]
  },
  {
   "cell_type": "markdown",
   "id": "opened-lindsay",
   "metadata": {},
   "source": [
    "## Remove duplicate records\n",
    "\n",
    "How many records have we harvested? Let's load the `ndjson` file into a dataframe and explore."
   ]
  },
  {
   "cell_type": "code",
   "execution_count": 38,
   "id": "uniform-parks",
   "metadata": {
    "tags": [
     "nbval-skip"
    ]
   },
   "outputs": [
    {
     "data": {
      "text/html": [
       "<div>\n",
       "<style scoped>\n",
       "    .dataframe tbody tr th:only-of-type {\n",
       "        vertical-align: middle;\n",
       "    }\n",
       "\n",
       "    .dataframe tbody tr th {\n",
       "        vertical-align: top;\n",
       "    }\n",
       "\n",
       "    .dataframe thead th {\n",
       "        text-align: right;\n",
       "    }\n",
       "</style>\n",
       "<table border=\"1\" class=\"dataframe\">\n",
       "  <thead>\n",
       "    <tr style=\"text-align: right;\">\n",
       "      <th></th>\n",
       "      <th>abstract</th>\n",
       "      <th>isPartOf</th>\n",
       "      <th>publisher</th>\n",
       "      <th>rights</th>\n",
       "      <th>type</th>\n",
       "      <th>title</th>\n",
       "      <th>creator</th>\n",
       "      <th>date</th>\n",
       "      <th>format</th>\n",
       "      <th>language</th>\n",
       "      <th>...</th>\n",
       "      <th>fulltext_url</th>\n",
       "      <th>thumbnail_url</th>\n",
       "      <th>rightsHolder</th>\n",
       "      <th>header</th>\n",
       "      <th>notonline_url</th>\n",
       "      <th>spatial</th>\n",
       "      <th>tableOfContents</th>\n",
       "      <th>modified</th>\n",
       "      <th>publisher.CorporateName</th>\n",
       "      <th>coverage.postcode</th>\n",
       "    </tr>\n",
       "  </thead>\n",
       "  <tbody>\n",
       "    <tr>\n",
       "      <th>0</th>\n",
       "      <td>[What politicians believe is good for women's ...</td>\n",
       "      <td>ABC Radio National. Health Report</td>\n",
       "      <td>Australian Broadcasting Corporation</td>\n",
       "      <td>http://www.abc.net.au/conditions.htm#UseOfContent</td>\n",
       "      <td>[Sound, Transcript, Radio Broadcast]</td>\n",
       "      <td>RU 486</td>\n",
       "      <td>[Australian Broadcasting Corporation. Radio Na...</td>\n",
       "      <td>1997-09-22</td>\n",
       "      <td>[text/html, Transcript]</td>\n",
       "      <td>[en-AU]</td>\n",
       "      <td>...</td>\n",
       "      <td>http://www.abc.net.au/radionational/programs/h...</td>\n",
       "      <td>http://www.abc.net.au/radionational/image/3699...</td>\n",
       "      <td>NaN</td>\n",
       "      <td>NaN</td>\n",
       "      <td>NaN</td>\n",
       "      <td>NaN</td>\n",
       "      <td>NaN</td>\n",
       "      <td>NaN</td>\n",
       "      <td>NaN</td>\n",
       "      <td>NaN</td>\n",
       "    </tr>\n",
       "    <tr>\n",
       "      <th>1</th>\n",
       "      <td>[There's an on-going courtroom war between cop...</td>\n",
       "      <td>ABC Radio National. Law Report</td>\n",
       "      <td>Australian Broadcasting Corporation</td>\n",
       "      <td>http://www.abc.net.au/conditions.htm#UseOfContent</td>\n",
       "      <td>[Sound, Transcript, Radio Broadcast]</td>\n",
       "      <td>Copyright and the courts</td>\n",
       "      <td>[Australian Broadcasting Corporation. Radio Na...</td>\n",
       "      <td>2011-05-12</td>\n",
       "      <td>[Audio, Transcript]</td>\n",
       "      <td>[en-AU]</td>\n",
       "      <td>...</td>\n",
       "      <td>http://www.abc.net.au/radionational/programs/l...</td>\n",
       "      <td>http://www.abc.net.au/radionational/image/3699...</td>\n",
       "      <td>NaN</td>\n",
       "      <td>NaN</td>\n",
       "      <td>NaN</td>\n",
       "      <td>NaN</td>\n",
       "      <td>NaN</td>\n",
       "      <td>NaN</td>\n",
       "      <td>NaN</td>\n",
       "      <td>NaN</td>\n",
       "    </tr>\n",
       "    <tr>\n",
       "      <th>2</th>\n",
       "      <td>[Disability rights lawyer and endurance athlet...</td>\n",
       "      <td>ABC Radio National. RN Breakfast</td>\n",
       "      <td>Australian Broadcasting Corporation</td>\n",
       "      <td>http://www.abc.net.au/conditions.htm#UseOfContent</td>\n",
       "      <td>[Sound, Transcript, Radio Broadcast]</td>\n",
       "      <td>The Law Report</td>\n",
       "      <td>[Australian Broadcasting Corporation. Radio Na...</td>\n",
       "      <td>2014-03-25</td>\n",
       "      <td>[text/html]</td>\n",
       "      <td>[en-AU]</td>\n",
       "      <td>...</td>\n",
       "      <td>http://www.abc.net.au/radionational/programs/b...</td>\n",
       "      <td>http://www.abc.net.au/radionational/image/3699...</td>\n",
       "      <td>ABC</td>\n",
       "      <td>NaN</td>\n",
       "      <td>NaN</td>\n",
       "      <td>NaN</td>\n",
       "      <td>NaN</td>\n",
       "      <td>NaN</td>\n",
       "      <td>NaN</td>\n",
       "      <td>NaN</td>\n",
       "    </tr>\n",
       "    <tr>\n",
       "      <th>3</th>\n",
       "      <td>[Professor Andrew Ashworth, one of the United ...</td>\n",
       "      <td>ABC Radio National. RN Breakfast</td>\n",
       "      <td>Australian Broadcasting Corporation</td>\n",
       "      <td>http://www.abc.net.au/conditions.htm#UseOfContent</td>\n",
       "      <td>[Sound, Transcript, Radio Broadcast]</td>\n",
       "      <td>The Law Report</td>\n",
       "      <td>[Australian Broadcasting Corporation. Radio Na...</td>\n",
       "      <td>2014-02-11</td>\n",
       "      <td>[text/html]</td>\n",
       "      <td>[en-AU]</td>\n",
       "      <td>...</td>\n",
       "      <td>http://www.abc.net.au/radionational/programs/b...</td>\n",
       "      <td>http://www.abc.net.au/radionational/image/3699...</td>\n",
       "      <td>ABC</td>\n",
       "      <td>NaN</td>\n",
       "      <td>NaN</td>\n",
       "      <td>NaN</td>\n",
       "      <td>NaN</td>\n",
       "      <td>NaN</td>\n",
       "      <td>NaN</td>\n",
       "      <td>NaN</td>\n",
       "    </tr>\n",
       "    <tr>\n",
       "      <th>4</th>\n",
       "      <td>[What has happened in East Timor since indepen...</td>\n",
       "      <td>ABC Radio National. Rear Vision</td>\n",
       "      <td>Australian Broadcasting Corporation</td>\n",
       "      <td>http://www.abc.net.au/conditions.htm#UseOfContent</td>\n",
       "      <td>[Text, Transcript, Radio Broadcast]</td>\n",
       "      <td>East Timor Since Independence</td>\n",
       "      <td>[Australian Broadcasting Corporation. Radio Na...</td>\n",
       "      <td>2006-06-29</td>\n",
       "      <td>[Audio]</td>\n",
       "      <td>[en-AU]</td>\n",
       "      <td>...</td>\n",
       "      <td>http://www.abc.net.au/radionational/programs/r...</td>\n",
       "      <td>http://www.abc.net.au/radionational/image/3699...</td>\n",
       "      <td>NaN</td>\n",
       "      <td>NaN</td>\n",
       "      <td>NaN</td>\n",
       "      <td>NaN</td>\n",
       "      <td>NaN</td>\n",
       "      <td>NaN</td>\n",
       "      <td>NaN</td>\n",
       "      <td>NaN</td>\n",
       "    </tr>\n",
       "  </tbody>\n",
       "</table>\n",
       "<p>5 rows × 26 columns</p>\n",
       "</div>"
      ],
      "text/plain": [
       "                                            abstract  \\\n",
       "0  [What politicians believe is good for women's ...   \n",
       "1  [There's an on-going courtroom war between cop...   \n",
       "2  [Disability rights lawyer and endurance athlet...   \n",
       "3  [Professor Andrew Ashworth, one of the United ...   \n",
       "4  [What has happened in East Timor since indepen...   \n",
       "\n",
       "                            isPartOf                            publisher  \\\n",
       "0  ABC Radio National. Health Report  Australian Broadcasting Corporation   \n",
       "1     ABC Radio National. Law Report  Australian Broadcasting Corporation   \n",
       "2   ABC Radio National. RN Breakfast  Australian Broadcasting Corporation   \n",
       "3   ABC Radio National. RN Breakfast  Australian Broadcasting Corporation   \n",
       "4    ABC Radio National. Rear Vision  Australian Broadcasting Corporation   \n",
       "\n",
       "                                              rights  \\\n",
       "0  http://www.abc.net.au/conditions.htm#UseOfContent   \n",
       "1  http://www.abc.net.au/conditions.htm#UseOfContent   \n",
       "2  http://www.abc.net.au/conditions.htm#UseOfContent   \n",
       "3  http://www.abc.net.au/conditions.htm#UseOfContent   \n",
       "4  http://www.abc.net.au/conditions.htm#UseOfContent   \n",
       "\n",
       "                                   type                          title  \\\n",
       "0  [Sound, Transcript, Radio Broadcast]                         RU 486   \n",
       "1  [Sound, Transcript, Radio Broadcast]       Copyright and the courts   \n",
       "2  [Sound, Transcript, Radio Broadcast]                 The Law Report   \n",
       "3  [Sound, Transcript, Radio Broadcast]                 The Law Report   \n",
       "4   [Text, Transcript, Radio Broadcast]  East Timor Since Independence   \n",
       "\n",
       "                                             creator        date  \\\n",
       "0  [Australian Broadcasting Corporation. Radio Na...  1997-09-22   \n",
       "1  [Australian Broadcasting Corporation. Radio Na...  2011-05-12   \n",
       "2  [Australian Broadcasting Corporation. Radio Na...  2014-03-25   \n",
       "3  [Australian Broadcasting Corporation. Radio Na...  2014-02-11   \n",
       "4  [Australian Broadcasting Corporation. Radio Na...  2006-06-29   \n",
       "\n",
       "                    format language  ...  \\\n",
       "0  [text/html, Transcript]  [en-AU]  ...   \n",
       "1      [Audio, Transcript]  [en-AU]  ...   \n",
       "2              [text/html]  [en-AU]  ...   \n",
       "3              [text/html]  [en-AU]  ...   \n",
       "4                  [Audio]  [en-AU]  ...   \n",
       "\n",
       "                                        fulltext_url  \\\n",
       "0  http://www.abc.net.au/radionational/programs/h...   \n",
       "1  http://www.abc.net.au/radionational/programs/l...   \n",
       "2  http://www.abc.net.au/radionational/programs/b...   \n",
       "3  http://www.abc.net.au/radionational/programs/b...   \n",
       "4  http://www.abc.net.au/radionational/programs/r...   \n",
       "\n",
       "                                       thumbnail_url rightsHolder header  \\\n",
       "0  http://www.abc.net.au/radionational/image/3699...          NaN    NaN   \n",
       "1  http://www.abc.net.au/radionational/image/3699...          NaN    NaN   \n",
       "2  http://www.abc.net.au/radionational/image/3699...          ABC    NaN   \n",
       "3  http://www.abc.net.au/radionational/image/3699...          ABC    NaN   \n",
       "4  http://www.abc.net.au/radionational/image/3699...          NaN    NaN   \n",
       "\n",
       "   notonline_url  spatial tableOfContents modified publisher.CorporateName  \\\n",
       "0            NaN      NaN             NaN      NaN                     NaN   \n",
       "1            NaN      NaN             NaN      NaN                     NaN   \n",
       "2            NaN      NaN             NaN      NaN                     NaN   \n",
       "3            NaN      NaN             NaN      NaN                     NaN   \n",
       "4            NaN      NaN             NaN      NaN                     NaN   \n",
       "\n",
       "  coverage.postcode  \n",
       "0               NaN  \n",
       "1               NaN  \n",
       "2               NaN  \n",
       "3               NaN  \n",
       "4               NaN  \n",
       "\n",
       "[5 rows x 26 columns]"
      ]
     },
     "execution_count": 38,
     "metadata": {},
     "output_type": "execute_result"
    }
   ],
   "source": [
    "# The lines param tells pandas there's one JSON object per line.\n",
    "df = pd.read_json(Path(\"data\", output_file), lines=True)\n",
    "df.head()"
   ]
  },
  {
   "cell_type": "code",
   "execution_count": 39,
   "id": "danish-journalism",
   "metadata": {
    "tags": [
     "nbval-skip"
    ]
   },
   "outputs": [
    {
     "data": {
      "text/plain": [
       "(484078, 26)"
      ]
     },
     "execution_count": 39,
     "metadata": {},
     "output_type": "execute_result"
    }
   ],
   "source": [
    "df.shape"
   ]
  },
  {
   "cell_type": "markdown",
   "id": "collected-ecuador",
   "metadata": {},
   "source": [
    "However, there are quite a lot of duplicates in the data. You'd expect the combination of `title`, `date`, and program (in the `isPartOf` field) to be unique – let's see."
   ]
  },
  {
   "cell_type": "code",
   "execution_count": 40,
   "id": "adapted-arlington",
   "metadata": {
    "tags": [
     "nbval-skip"
    ]
   },
   "outputs": [
    {
     "data": {
      "text/plain": [
       "(62801, 26)"
      ]
     },
     "execution_count": 40,
     "metadata": {},
     "output_type": "execute_result"
    }
   ],
   "source": [
    "df.loc[df.duplicated(subset=(\"title\", \"date\", \"isPartOf\"))].shape"
   ]
  },
  {
   "cell_type": "markdown",
   "id": "driven-casting",
   "metadata": {},
   "source": [
    "Let's remove the duplicates based on the `title`, `date`, and `isPartOf` fields. By adding `fulltext_url` to the sort, I'm hoping to drop the duplicates without urls (by default `drop_duplicates` keeps the first version of a duplicated record)."
   ]
  },
  {
   "cell_type": "code",
   "execution_count": 41,
   "id": "challenging-array",
   "metadata": {
    "tags": [
     "nbval-skip"
    ]
   },
   "outputs": [],
   "source": [
    "df = df.sort_values(by=[\"title\", \"date\", \"fulltext_url\"]).drop_duplicates(\n",
    "    subset=[\"title\", \"date\", \"isPartOf\"]\n",
    ")"
   ]
  },
  {
   "cell_type": "markdown",
   "id": "approved-isaac",
   "metadata": {},
   "source": [
    "Now how many do we have?"
   ]
  },
  {
   "cell_type": "code",
   "execution_count": 42,
   "id": "advised-compression",
   "metadata": {
    "tags": [
     "nbval-skip"
    ]
   },
   "outputs": [
    {
     "data": {
      "text/plain": [
       "(421277, 26)"
      ]
     },
     "execution_count": 42,
     "metadata": {},
     "output_type": "execute_result"
    }
   ],
   "source": [
    "df.shape"
   ]
  },
  {
   "cell_type": "markdown",
   "id": "boolean-aging",
   "metadata": {},
   "source": [
    "## Clean and reshape\n",
    "\n",
    "Here I'll drop some unnecessary columns and reorder those that remain."
   ]
  },
  {
   "cell_type": "code",
   "execution_count": 43,
   "id": "focused-stranger",
   "metadata": {
    "tags": [
     "nbval-skip"
    ]
   },
   "outputs": [],
   "source": [
    "df = df[\n",
    "    [\n",
    "        \"work_id\",\n",
    "        \"version_id\",\n",
    "        \"title\",\n",
    "        \"isPartOf\",\n",
    "        \"date\",\n",
    "        \"creator\",\n",
    "        \"contributor\",\n",
    "        \"publisher\",\n",
    "        \"rights\",\n",
    "        \"type\",\n",
    "        \"format\",\n",
    "        \"abstract\",\n",
    "        \"subject\",\n",
    "        \"description\",\n",
    "        \"fulltext_url\",\n",
    "        \"thumbnail_url\",\n",
    "        \"notonline_url\",\n",
    "    ]\n",
    "]"
   ]
  },
  {
   "cell_type": "code",
   "execution_count": 44,
   "id": "closed-sellers",
   "metadata": {
    "tags": [
     "nbval-skip"
    ]
   },
   "outputs": [
    {
     "data": {
      "text/html": [
       "<div>\n",
       "<style scoped>\n",
       "    .dataframe tbody tr th:only-of-type {\n",
       "        vertical-align: middle;\n",
       "    }\n",
       "\n",
       "    .dataframe tbody tr th {\n",
       "        vertical-align: top;\n",
       "    }\n",
       "\n",
       "    .dataframe thead th {\n",
       "        text-align: right;\n",
       "    }\n",
       "</style>\n",
       "<table border=\"1\" class=\"dataframe\">\n",
       "  <thead>\n",
       "    <tr style=\"text-align: right;\">\n",
       "      <th></th>\n",
       "      <th>work_id</th>\n",
       "      <th>version_id</th>\n",
       "      <th>title</th>\n",
       "      <th>isPartOf</th>\n",
       "      <th>date</th>\n",
       "      <th>creator</th>\n",
       "      <th>contributor</th>\n",
       "      <th>publisher</th>\n",
       "      <th>rights</th>\n",
       "      <th>type</th>\n",
       "      <th>format</th>\n",
       "      <th>abstract</th>\n",
       "      <th>subject</th>\n",
       "      <th>description</th>\n",
       "      <th>fulltext_url</th>\n",
       "      <th>thumbnail_url</th>\n",
       "      <th>notonline_url</th>\n",
       "    </tr>\n",
       "  </thead>\n",
       "  <tbody>\n",
       "    <tr>\n",
       "      <th>249156</th>\n",
       "      <td>192773792</td>\n",
       "      <td>211006911</td>\n",
       "      <td></td>\n",
       "      <td>ABC Radio. AM Archive</td>\n",
       "      <td>2000-03-01</td>\n",
       "      <td>[Australian Broadcasting Corporation. News]</td>\n",
       "      <td>[Denise Knight]</td>\n",
       "      <td>Australian Broadcasting Corporation</td>\n",
       "      <td>NaN</td>\n",
       "      <td>[Radio Broadcast]</td>\n",
       "      <td>[Transcript]</td>\n",
       "      <td>[A key US cabinet minister Energy Secretary Bi...</td>\n",
       "      <td>NaN</td>\n",
       "      <td>[COMPERE: A key US cabinet minister, Energy Se...</td>\n",
       "      <td>http://www.abc.net.au/am/stories/s104577.htm</td>\n",
       "      <td>http://www.abc.net.au/am/rss/AM-100x100.jpg</td>\n",
       "      <td>NaN</td>\n",
       "    </tr>\n",
       "    <tr>\n",
       "      <th>249709</th>\n",
       "      <td>192780593</td>\n",
       "      <td>211016874</td>\n",
       "      <td></td>\n",
       "      <td>ABC Radio. The World Today</td>\n",
       "      <td>2001-03-15</td>\n",
       "      <td>[Australian Broadcasting Corporation. News]</td>\n",
       "      <td>NaN</td>\n",
       "      <td>Australian Broadcasting Corporation</td>\n",
       "      <td>NaN</td>\n",
       "      <td>[Radio Broadcast]</td>\n",
       "      <td>NaN</td>\n",
       "      <td>[China has delivered its toughest warning yet ...</td>\n",
       "      <td>NaN</td>\n",
       "      <td>NaN</td>\n",
       "      <td>http://www.abc.net.au/worldtoday/stories/s2608...</td>\n",
       "      <td>http://www.abc.net.au/worldtoday/rss/TWT-1400x...</td>\n",
       "      <td>NaN</td>\n",
       "    </tr>\n",
       "    <tr>\n",
       "      <th>30897</th>\n",
       "      <td>188214807</td>\n",
       "      <td>204817860</td>\n",
       "      <td></td>\n",
       "      <td>ABC Radio. AM</td>\n",
       "      <td>2009-09-14</td>\n",
       "      <td>[Australian Broadcasting Corporation. News]</td>\n",
       "      <td>[John Shovelan, Tony Eastley]</td>\n",
       "      <td>Australian Broadcasting Corporation</td>\n",
       "      <td>NaN</td>\n",
       "      <td>[Radio Broadcast]</td>\n",
       "      <td>[Audio, Transcript, Transcript]</td>\n",
       "      <td>[The White House has dismissed suggestions tha...</td>\n",
       "      <td>[English Defence League, Barack Obama, Joe Wil...</td>\n",
       "      <td>[TONY EASTLEY: The White House has dismissed s...</td>\n",
       "      <td>http://www.abc.net.au/am/content/2009/s2684727...</td>\n",
       "      <td>http://www.abc.net.au/am/rss/AM-100x100.jpg</td>\n",
       "      <td>NaN</td>\n",
       "    </tr>\n",
       "    <tr>\n",
       "      <th>373502</th>\n",
       "      <td>242731122</td>\n",
       "      <td>270536229</td>\n",
       "      <td>\" Bringing the Spirits Home: the first stolen ...</td>\n",
       "      <td>ABC Radio National. AWAYE!</td>\n",
       "      <td>2003-08-07</td>\n",
       "      <td>NaN</td>\n",
       "      <td>[Rhoda Roberts, Lorena Allam]</td>\n",
       "      <td>Australian Broadcasting Corporation</td>\n",
       "      <td>https://www.abc.net.au/conditions.htm#UseOfCon...</td>\n",
       "      <td>[Transcript, Sound]</td>\n",
       "      <td>[text/html]</td>\n",
       "      <td>[\"Bringing the Spirits Home: the first stolen ...</td>\n",
       "      <td>NaN</td>\n",
       "      <td>NaN</td>\n",
       "      <td>https://www.abc.net.au/radionational/programs/...</td>\n",
       "      <td>https://www.abc.net.au/cm/rimage/8135856-1x1-l...</td>\n",
       "      <td>NaN</td>\n",
       "    </tr>\n",
       "    <tr>\n",
       "      <th>28043</th>\n",
       "      <td>188211972</td>\n",
       "      <td>204814278</td>\n",
       "      <td>\" Bringing the Spirits Home: the first stolen ...</td>\n",
       "      <td>ABC Radio National. AWAYE!</td>\n",
       "      <td>2004-06-04</td>\n",
       "      <td>[Australian Broadcasting Corporation. Radio Na...</td>\n",
       "      <td>[Rhoda Roberts, Lorena Allam]</td>\n",
       "      <td>Australian Broadcasting Corporation</td>\n",
       "      <td>http://www.abc.net.au/conditions.htm#UseOfContent</td>\n",
       "      <td>[Sound, Transcript, Radio Broadcast]</td>\n",
       "      <td>[text/html]</td>\n",
       "      <td>[Bringing the Spirits Home: the first stolen g...</td>\n",
       "      <td>NaN</td>\n",
       "      <td>[\"Bringing the Spirits Home: the first stolen ...</td>\n",
       "      <td>http://www.abc.net.au/radionational/programs/a...</td>\n",
       "      <td>http://www.abc.net.au/radionational/image/3699...</td>\n",
       "      <td>NaN</td>\n",
       "    </tr>\n",
       "  </tbody>\n",
       "</table>\n",
       "</div>"
      ],
      "text/plain": [
       "          work_id  version_id  \\\n",
       "249156  192773792   211006911   \n",
       "249709  192780593   211016874   \n",
       "30897   188214807   204817860   \n",
       "373502  242731122   270536229   \n",
       "28043   188211972   204814278   \n",
       "\n",
       "                                                    title  \\\n",
       "249156                                                      \n",
       "249709                                                      \n",
       "30897                                                       \n",
       "373502  \" Bringing the Spirits Home: the first stolen ...   \n",
       "28043   \" Bringing the Spirits Home: the first stolen ...   \n",
       "\n",
       "                          isPartOf        date  \\\n",
       "249156       ABC Radio. AM Archive  2000-03-01   \n",
       "249709  ABC Radio. The World Today  2001-03-15   \n",
       "30897                ABC Radio. AM  2009-09-14   \n",
       "373502  ABC Radio National. AWAYE!  2003-08-07   \n",
       "28043   ABC Radio National. AWAYE!  2004-06-04   \n",
       "\n",
       "                                                  creator  \\\n",
       "249156        [Australian Broadcasting Corporation. News]   \n",
       "249709        [Australian Broadcasting Corporation. News]   \n",
       "30897         [Australian Broadcasting Corporation. News]   \n",
       "373502                                                NaN   \n",
       "28043   [Australian Broadcasting Corporation. Radio Na...   \n",
       "\n",
       "                          contributor                            publisher  \\\n",
       "249156                [Denise Knight]  Australian Broadcasting Corporation   \n",
       "249709                            NaN  Australian Broadcasting Corporation   \n",
       "30897   [John Shovelan, Tony Eastley]  Australian Broadcasting Corporation   \n",
       "373502  [Rhoda Roberts, Lorena Allam]  Australian Broadcasting Corporation   \n",
       "28043   [Rhoda Roberts, Lorena Allam]  Australian Broadcasting Corporation   \n",
       "\n",
       "                                                   rights  \\\n",
       "249156                                                NaN   \n",
       "249709                                                NaN   \n",
       "30897                                                 NaN   \n",
       "373502  https://www.abc.net.au/conditions.htm#UseOfCon...   \n",
       "28043   http://www.abc.net.au/conditions.htm#UseOfContent   \n",
       "\n",
       "                                        type                           format  \\\n",
       "249156                     [Radio Broadcast]                     [Transcript]   \n",
       "249709                     [Radio Broadcast]                              NaN   \n",
       "30897                      [Radio Broadcast]  [Audio, Transcript, Transcript]   \n",
       "373502                   [Transcript, Sound]                      [text/html]   \n",
       "28043   [Sound, Transcript, Radio Broadcast]                      [text/html]   \n",
       "\n",
       "                                                 abstract  \\\n",
       "249156  [A key US cabinet minister Energy Secretary Bi...   \n",
       "249709  [China has delivered its toughest warning yet ...   \n",
       "30897   [The White House has dismissed suggestions tha...   \n",
       "373502  [\"Bringing the Spirits Home: the first stolen ...   \n",
       "28043   [Bringing the Spirits Home: the first stolen g...   \n",
       "\n",
       "                                                  subject  \\\n",
       "249156                                                NaN   \n",
       "249709                                                NaN   \n",
       "30897   [English Defence League, Barack Obama, Joe Wil...   \n",
       "373502                                                NaN   \n",
       "28043                                                 NaN   \n",
       "\n",
       "                                              description  \\\n",
       "249156  [COMPERE: A key US cabinet minister, Energy Se...   \n",
       "249709                                                NaN   \n",
       "30897   [TONY EASTLEY: The White House has dismissed s...   \n",
       "373502                                                NaN   \n",
       "28043   [\"Bringing the Spirits Home: the first stolen ...   \n",
       "\n",
       "                                             fulltext_url  \\\n",
       "249156       http://www.abc.net.au/am/stories/s104577.htm   \n",
       "249709  http://www.abc.net.au/worldtoday/stories/s2608...   \n",
       "30897   http://www.abc.net.au/am/content/2009/s2684727...   \n",
       "373502  https://www.abc.net.au/radionational/programs/...   \n",
       "28043   http://www.abc.net.au/radionational/programs/a...   \n",
       "\n",
       "                                            thumbnail_url notonline_url  \n",
       "249156        http://www.abc.net.au/am/rss/AM-100x100.jpg           NaN  \n",
       "249709  http://www.abc.net.au/worldtoday/rss/TWT-1400x...           NaN  \n",
       "30897         http://www.abc.net.au/am/rss/AM-100x100.jpg           NaN  \n",
       "373502  https://www.abc.net.au/cm/rimage/8135856-1x1-l...           NaN  \n",
       "28043   http://www.abc.net.au/radionational/image/3699...           NaN  "
      ]
     },
     "execution_count": 44,
     "metadata": {},
     "output_type": "execute_result"
    }
   ],
   "source": [
    "df.head()"
   ]
  },
  {
   "cell_type": "markdown",
   "id": "earned-sydney",
   "metadata": {},
   "source": [
    "##  Flatten lists for CSV export\n",
    "\n",
    "There are a few fields that have a series of values in a list (like `subject`). Here we'll join them into pipe (`|`) delimited strings to make them easier to export as CSVs."
   ]
  },
  {
   "cell_type": "code",
   "execution_count": 45,
   "id": "fresh-terminology",
   "metadata": {
    "tags": [
     "nbval-skip"
    ]
   },
   "outputs": [],
   "source": [
    "cols_with_lists = [\n",
    "    \"creator\",\n",
    "    \"contributor\",\n",
    "    \"type\",\n",
    "    \"format\",\n",
    "    \"abstract\",\n",
    "    \"subject\",\n",
    "    \"description\",\n",
    "]\n",
    "for col in cols_with_lists:\n",
    "    df[col] = df[col].str.join(\"|\")"
   ]
  },
  {
   "cell_type": "code",
   "execution_count": 46,
   "id": "signal-czech",
   "metadata": {
    "tags": [
     "nbval-skip"
    ]
   },
   "outputs": [],
   "source": [
    "csv_file = Path(\"data\", f'abcrn-{datetime.now().strftime(\"%Y%m%d\")}.csv')\n",
    "df.to_csv(csv_file, index=False)"
   ]
  },
  {
   "cell_type": "markdown",
   "id": "promotional-multiple",
   "metadata": {},
   "source": [
    "## Create CSV downloads for individual programs\n",
    "\n",
    "Here's the programs with the most records. Note that some like RN Breakfast are split between two `isPartOf` values, 'ABC Radio National. RN Breakfast' and 'ABC Radio. RN Breakfast'."
   ]
  },
  {
   "cell_type": "code",
   "execution_count": 47,
   "id": "mounted-privilege",
   "metadata": {
    "tags": [
     "nbval-skip"
    ]
   },
   "outputs": [
    {
     "data": {
      "text/plain": [
       "ABC Radio National. RN Breakfast        63667\n",
       "ABC Radio. AM                           55936\n",
       "ABC Radio. The World Today              51612\n",
       "ABC Radio. PM                           51213\n",
       "ABC Radio. RN Breakfast                 19877\n",
       "ABC Radio National. RN Drive            13779\n",
       "ABC Radio. RN Drive                     12758\n",
       "ABC Radio National. Late Night Live     10680\n",
       "ABC Radio National. Life Matters        10657\n",
       "ABC Radio. AM Archive                    9825\n",
       "ABC Radio. PM Archive                    8430\n",
       "ABC Radio. The World Today Archive       7902\n",
       "ABC Radio National. The Science Show     6505\n",
       "ABC Radio National. Saturday Extra       5613\n",
       "ABC Radio                                4612\n",
       "ABC Radio National. Counterpoint         4049\n",
       "ABC Radio National. Sunday Extra         4005\n",
       "ABC Radio. Correspondents Report         3927\n",
       "ABC Radio National. Health Report        3845\n",
       "ABC Radio National. AWAYE!               3443\n",
       "Name: isPartOf, dtype: int64"
      ]
     },
     "execution_count": 47,
     "metadata": {},
     "output_type": "execute_result"
    }
   ],
   "source": [
    "df[\"isPartOf\"].value_counts()[:20]"
   ]
  },
  {
   "cell_type": "markdown",
   "id": "needed-account",
   "metadata": {},
   "source": [
    "Let's save the programs with the most records as separate CSV files to make them a bit easier to work with. We'll also group together programs with multiple `isPartOf` values."
   ]
  },
  {
   "cell_type": "code",
   "execution_count": 48,
   "id": "essential-communication",
   "metadata": {
    "tags": [
     "nbval-skip"
    ]
   },
   "outputs": [],
   "source": [
    "programs = {\n",
    "    \"breakfast\": [\"ABC Radio National. RN Breakfast\", \"ABC Radio. RN Breakfast\"],\n",
    "    \"am\": [\"ABC Radio. AM\", \"ABC Radio. AM Archive\"],\n",
    "    \"pm\": [\"ABC Radio. PM\", \"ABC Radio. PM Archive\"],\n",
    "    \"world_today\": [\"ABC Radio. The World Today\", \"ABC Radio. The World Today Archive\"],\n",
    "    \"drive\": [\"ABC Radio. RN Drive\", \"ABC Radio National. RN Drive\"],\n",
    "    \"latenight\": [\"ABC Radio National. Late Night Live\"],\n",
    "    \"lifematters\": [\"ABC Radio National. Life Matters\"],\n",
    "    \"scienceshow\": [\"ABC Radio National. The Science Show\"],\n",
    "}\n",
    "\n",
    "for program, labels in programs.items():\n",
    "    dfp = df.loc[df[\"isPartOf\"].isin(labels)].sort_values(by=[\"date\", \"title\"])\n",
    "    csv_file = Path(\"data\", f'{program}-{datetime.now().strftime(\"%Y%m%d\")}.csv')\n",
    "    dfp.to_csv(csv_file, index=False)"
   ]
  },
  {
   "cell_type": "code",
   "execution_count": 49,
   "id": "4b4f2f9e-2275-4d91-b480-05e0f2c1ccb1",
   "metadata": {
    "tags": []
   },
   "outputs": [
    {
     "data": {
      "application/vnd.jupyter.widget-view+json": {
       "model_id": "3299eb73d3714a718371d0dbcc98f97c",
       "version_major": 2,
       "version_minor": 0
      },
      "text/plain": [
       "  0%|          | 0/403 [00:00<?, ?it/s]"
      ]
     },
     "metadata": {},
     "output_type": "display_data"
    }
   ],
   "source": [
    "# This is just a small automated test used in development\n",
    "# You can ignore this cell\n",
    "if os.getenv(\"GW_STATUS\") == \"dev\":\n",
    "    output_file = f'abcrn-test-{datetime.now().strftime(\"%Y%m%d\")}.ndjson'\n",
    "    output_path = Path(\"data\", output_file)\n",
    "    harvest(output_file=output_file, year=\"2022\")\n",
    "    df = pd.read_json(output_path, lines=True)\n",
    "    assert df.empty is False\n",
    "    output_path.unlink()"
   ]
  },
  {
   "cell_type": "markdown",
   "id": "adequate-illinois",
   "metadata": {},
   "source": [
    "----\n",
    "\n",
    "Created by [Tim Sherratt](https://timsherratt.org) for the [GLAM Workbench](https://glam-workbench.github.io/)"
   ]
  },
  {
   "cell_type": "code",
   "execution_count": null,
   "id": "incident-writer",
   "metadata": {},
   "outputs": [],
   "source": []
  }
 ],
 "metadata": {
  "kernelspec": {
   "display_name": "Python 3 (ipykernel)",
   "language": "python",
   "name": "python3"
  },
  "language_info": {
   "codemirror_mode": {
    "name": "ipython",
    "version": 3
   },
   "file_extension": ".py",
   "mimetype": "text/x-python",
   "name": "python",
   "nbconvert_exporter": "python",
   "pygments_lexer": "ipython3",
   "version": "3.10.2"
  }
 },
 "nbformat": 4,
 "nbformat_minor": 5
}
