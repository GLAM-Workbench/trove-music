{
 "cells": [
  {
   "cell_type": "markdown",
   "id": "854ee76b",
   "metadata": {},
   "source": [
    "# Trove music and sound\n",
    "\n",
    "Current version: [v1.0.0](https://github.com/GLAM-Workbench/trove-music/releases/tag/v1.0.0)\n",
    "\n",
    "Jupyter notebooks to work with data from Trove's music and sound zone.\n",
    "\n",
    "See the [Trove music and sound section](https://glam-workbench.net/trove-music/) of the GLAM Workbench for more details.\n",
    "\n",
    "## Notebook topics\n",
    "\n",
    "* [Harvest ABC Radio National records from Trove](harvest-abcrn.ipynb) – harvests, cleans, and saves all the available Radio National data from Trove.\n",
    "\n",
    "* [Exploring ABC Radio National metadata](explore-abcrn-data.ipynb) – shows a few ways you can start to explore the ABC Radio National metadata. "
   ]
  },
  {
   "cell_type": "markdown",
   "id": "a04360b5",
   "metadata": {},
   "source": [
    "## Cite as\n",
    "\n",
    "See the GLAM Workbench or [Zenodo](https://doi.org/10.5281/zenodo.3549426) for up-to-date citation details.\n",
    "\n",
    "----\n",
    "\n",
    "This repository is part of the [GLAM Workbench](https://glam-workbench.net/). \n"
   ]
  }
 ],
 "metadata": {
  "jupytext": {
   "cell_metadata_filter": "-all"
  },
  "kernelspec": {
   "display_name": "Python 3 (ipykernel)",
   "language": "python",
   "name": "python3"
  }
 },
 "nbformat": 4,
 "nbformat_minor": 5
}
