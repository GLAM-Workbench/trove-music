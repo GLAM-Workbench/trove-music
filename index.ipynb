{
 "cells": [
  {
   "cell_type": "markdown",
   "id": "d9b34523",
   "metadata": {},
   "source": [
    "# Trove music, sound, and oral histories\n",
    "\n",
    "Current version: [v2.0.0](https://github.com/GLAM-Workbench/trove-music/releases/tag/v2.0.0)\n",
    "\n",
    "Jupyter notebooks to work with data from Trove's music and sound zone.\n",
    "\n",
    "See the [Trove music, sound, and oral histories section](https://glam-workbench.net/trove-music/) of the GLAM Workbench for more details.\n",
    "\n",
    "## Notebook topics\n",
    "\n",
    "* [Harvest oral histories metadata](harvest-oral-histories.ipynb) – harvests metadata describing the NLA's oral history collection from Trove and saves the results as a CSV file.\n",
    "\n",
    "* [Save a list of oral history collections](save-series.ipynb) – extracts a list of series from metadata describing oral histories held by the NLA and described in Trove.\n",
    "\n",
    "* [Download summaries and transcripts from oral histories](download-transcripts.ipynb) – downloads all the available transcripts and summaries from digitised oral histories available in Trove.\n",
    "\n",
    "* [Harvest ABC Radio National records from Trove](harvest-abcrn.ipynb) – harvests, cleans, and saves all the available Radio National data from Trove.\n",
    "\n",
    "* [Exploring ABC Radio National metadata](explore-abcrn-data.ipynb) – shows a few ways you can start to explore the ABC Radio National metadata. "
   ]
  },
  {
   "cell_type": "markdown",
   "id": "1d095533",
   "metadata": {},
   "source": [
    "## Cite as\n",
    "\n",
    "See the GLAM Workbench or [Zenodo](https://doi.org/10.5281/zenodo.7659567) for up-to-date citation details.\n",
    "\n",
    "----\n",
    "\n",
    "This repository is part of the [GLAM Workbench](https://glam-workbench.net/). \n"
   ]
  }
 ],
 "metadata": {
  "jupytext": {
   "cell_metadata_filter": "-all"
  },
  "kernelspec": {
   "display_name": "Python 3 (ipykernel)",
   "language": "python",
   "name": "python3"
  }
 },
 "nbformat": 4,
 "nbformat_minor": 5
}
